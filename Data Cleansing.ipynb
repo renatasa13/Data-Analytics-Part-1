{
 "cells": [
  {
   "cell_type": "markdown",
   "id": "b7aed286",
   "metadata": {},
   "source": [
    "# Data Cleaning on Online Store Dataset\n",
    "\n",
    "Member of Group 5\n",
    "1. Ahmad Novan Alfian\n",
    "2. Nirmala\n",
    "3. Moch Isna Ardian Cahyana\n",
    "4. Renata Sayidatul Arikha"
   ]
  },
  {
   "cell_type": "markdown",
   "id": "35793f55",
   "metadata": {},
   "source": [
    "First, import the libraries that will be used, including pandas, numpy, matplotlib, seaborn, dan scipy libraries"
   ]
  },
  {
   "cell_type": "code",
   "execution_count": 1,
   "id": "d3021250",
   "metadata": {},
   "outputs": [],
   "source": [
    "import pandas as pd\n",
    "import numpy as np\n",
    "import matplotlib.pyplot as plt\n",
    "import seaborn as sns\n",
    "from scipy.stats import skew\n",
    "from scipy.stats import boxcox"
   ]
  },
  {
   "cell_type": "markdown",
   "id": "4fcaf097",
   "metadata": {},
   "source": [
    "Load a CSV file containing datasets from online stores obtained from Kaggle"
   ]
  },
  {
   "cell_type": "code",
   "execution_count": 2,
   "id": "784ca5b6",
   "metadata": {},
   "outputs": [],
   "source": [
    "df = pd.read_csv('online_store.csv')"
   ]
  },
  {
   "cell_type": "markdown",
   "id": "5217a176",
   "metadata": {},
   "source": [
    "Displays the dataset that has been loaded"
   ]
  },
  {
   "cell_type": "code",
   "execution_count": 3,
   "id": "aaa5ad27",
   "metadata": {},
   "outputs": [
    {
     "data": {
      "text/html": [
       "<div>\n",
       "<style scoped>\n",
       "    .dataframe tbody tr th:only-of-type {\n",
       "        vertical-align: middle;\n",
       "    }\n",
       "\n",
       "    .dataframe tbody tr th {\n",
       "        vertical-align: top;\n",
       "    }\n",
       "\n",
       "    .dataframe thead th {\n",
       "        text-align: right;\n",
       "    }\n",
       "</style>\n",
       "<table border=\"1\" class=\"dataframe\">\n",
       "  <thead>\n",
       "    <tr style=\"text-align: right;\">\n",
       "      <th></th>\n",
       "      <th>Transaction_date</th>\n",
       "      <th>Transaction_ID</th>\n",
       "      <th>Gender</th>\n",
       "      <th>Age</th>\n",
       "      <th>Marital_status</th>\n",
       "      <th>State_names</th>\n",
       "      <th>Segment</th>\n",
       "      <th>Employees_status</th>\n",
       "      <th>Payment_method</th>\n",
       "      <th>Referal</th>\n",
       "      <th>Amount_spent</th>\n",
       "    </tr>\n",
       "  </thead>\n",
       "  <tbody>\n",
       "    <tr>\n",
       "      <th>0</th>\n",
       "      <td>1/1/2019</td>\n",
       "      <td>151200</td>\n",
       "      <td>Female</td>\n",
       "      <td>19.0</td>\n",
       "      <td>Single</td>\n",
       "      <td>Kansas</td>\n",
       "      <td>Basic</td>\n",
       "      <td>Unemployment</td>\n",
       "      <td>Other</td>\n",
       "      <td>1.0</td>\n",
       "      <td>2051.36</td>\n",
       "    </tr>\n",
       "    <tr>\n",
       "      <th>1</th>\n",
       "      <td>1/1/2019</td>\n",
       "      <td>151201</td>\n",
       "      <td>Male</td>\n",
       "      <td>49.0</td>\n",
       "      <td>Single</td>\n",
       "      <td>Illinois</td>\n",
       "      <td>Basic</td>\n",
       "      <td>self-employed</td>\n",
       "      <td>Card</td>\n",
       "      <td>0.0</td>\n",
       "      <td>544.04</td>\n",
       "    </tr>\n",
       "    <tr>\n",
       "      <th>2</th>\n",
       "      <td>1/1/2019</td>\n",
       "      <td>151202</td>\n",
       "      <td>Male</td>\n",
       "      <td>63.0</td>\n",
       "      <td>Married</td>\n",
       "      <td>New Mexico</td>\n",
       "      <td>Basic</td>\n",
       "      <td>workers</td>\n",
       "      <td>PayPal</td>\n",
       "      <td>1.0</td>\n",
       "      <td>1572.60</td>\n",
       "    </tr>\n",
       "    <tr>\n",
       "      <th>3</th>\n",
       "      <td>1/1/2019</td>\n",
       "      <td>151203</td>\n",
       "      <td>NaN</td>\n",
       "      <td>18.0</td>\n",
       "      <td>Single</td>\n",
       "      <td>Virginia</td>\n",
       "      <td>Platinum</td>\n",
       "      <td>workers</td>\n",
       "      <td>Card</td>\n",
       "      <td>1.0</td>\n",
       "      <td>1199.79</td>\n",
       "    </tr>\n",
       "    <tr>\n",
       "      <th>4</th>\n",
       "      <td>1/1/2019</td>\n",
       "      <td>151204</td>\n",
       "      <td>Male</td>\n",
       "      <td>27.0</td>\n",
       "      <td>Single</td>\n",
       "      <td>Connecticut</td>\n",
       "      <td>Basic</td>\n",
       "      <td>self-employed</td>\n",
       "      <td>Card</td>\n",
       "      <td>0.0</td>\n",
       "      <td>NaN</td>\n",
       "    </tr>\n",
       "    <tr>\n",
       "      <th>5</th>\n",
       "      <td>1/3/2019</td>\n",
       "      <td>151205</td>\n",
       "      <td>Male</td>\n",
       "      <td>71.0</td>\n",
       "      <td>Single</td>\n",
       "      <td>Hawaii</td>\n",
       "      <td>Basic</td>\n",
       "      <td>Employees</td>\n",
       "      <td>PayPal</td>\n",
       "      <td>1.0</td>\n",
       "      <td>2922.66</td>\n",
       "    </tr>\n",
       "    <tr>\n",
       "      <th>6</th>\n",
       "      <td>1/3/2019</td>\n",
       "      <td>151206</td>\n",
       "      <td>Female</td>\n",
       "      <td>34.0</td>\n",
       "      <td>Married</td>\n",
       "      <td>New Mexico</td>\n",
       "      <td>Platinum</td>\n",
       "      <td>Employees</td>\n",
       "      <td>PayPal</td>\n",
       "      <td>1.0</td>\n",
       "      <td>1481.42</td>\n",
       "    </tr>\n",
       "    <tr>\n",
       "      <th>7</th>\n",
       "      <td>1/3/2019</td>\n",
       "      <td>151207</td>\n",
       "      <td>Male</td>\n",
       "      <td>37.0</td>\n",
       "      <td>Married</td>\n",
       "      <td>Connecticut</td>\n",
       "      <td>Basic</td>\n",
       "      <td>workers</td>\n",
       "      <td>PayPal</td>\n",
       "      <td>1.0</td>\n",
       "      <td>1149.55</td>\n",
       "    </tr>\n",
       "    <tr>\n",
       "      <th>8</th>\n",
       "      <td>1/4/2019</td>\n",
       "      <td>151208</td>\n",
       "      <td>Male</td>\n",
       "      <td>75.0</td>\n",
       "      <td>Married</td>\n",
       "      <td>Florida</td>\n",
       "      <td>Silver</td>\n",
       "      <td>Employees</td>\n",
       "      <td>Card</td>\n",
       "      <td>0.0</td>\n",
       "      <td>1046.20</td>\n",
       "    </tr>\n",
       "    <tr>\n",
       "      <th>9</th>\n",
       "      <td>1/4/2019</td>\n",
       "      <td>151209</td>\n",
       "      <td>Female</td>\n",
       "      <td>41.0</td>\n",
       "      <td>Married</td>\n",
       "      <td>Vermont</td>\n",
       "      <td>Gold</td>\n",
       "      <td>Unemployment</td>\n",
       "      <td>Card</td>\n",
       "      <td>1.0</td>\n",
       "      <td>2730.60</td>\n",
       "    </tr>\n",
       "  </tbody>\n",
       "</table>\n",
       "</div>"
      ],
      "text/plain": [
       "  Transaction_date  Transaction_ID  Gender   Age Marital_status  State_names  \\\n",
       "0         1/1/2019          151200  Female  19.0         Single       Kansas   \n",
       "1         1/1/2019          151201    Male  49.0         Single     Illinois   \n",
       "2         1/1/2019          151202    Male  63.0        Married   New Mexico   \n",
       "3         1/1/2019          151203     NaN  18.0         Single     Virginia   \n",
       "4         1/1/2019          151204    Male  27.0         Single  Connecticut   \n",
       "5         1/3/2019          151205    Male  71.0         Single       Hawaii   \n",
       "6         1/3/2019          151206  Female  34.0        Married   New Mexico   \n",
       "7         1/3/2019          151207    Male  37.0        Married  Connecticut   \n",
       "8         1/4/2019          151208    Male  75.0        Married      Florida   \n",
       "9         1/4/2019          151209  Female  41.0        Married      Vermont   \n",
       "\n",
       "    Segment Employees_status Payment_method  Referal  Amount_spent  \n",
       "0     Basic     Unemployment          Other      1.0       2051.36  \n",
       "1     Basic    self-employed           Card      0.0        544.04  \n",
       "2     Basic          workers         PayPal      1.0       1572.60  \n",
       "3  Platinum          workers           Card      1.0       1199.79  \n",
       "4     Basic    self-employed           Card      0.0           NaN  \n",
       "5     Basic        Employees         PayPal      1.0       2922.66  \n",
       "6  Platinum        Employees         PayPal      1.0       1481.42  \n",
       "7     Basic          workers         PayPal      1.0       1149.55  \n",
       "8    Silver        Employees           Card      0.0       1046.20  \n",
       "9      Gold     Unemployment           Card      1.0       2730.60  "
      ]
     },
     "execution_count": 3,
     "metadata": {},
     "output_type": "execute_result"
    }
   ],
   "source": [
    "df.head(10)"
   ]
  },
  {
   "cell_type": "markdown",
   "id": "00c66692",
   "metadata": {},
   "source": [
    "Check data condition"
   ]
  },
  {
   "cell_type": "code",
   "execution_count": 4,
   "id": "f801df72",
   "metadata": {},
   "outputs": [
    {
     "name": "stdout",
     "output_type": "stream",
     "text": [
      "<class 'pandas.core.frame.DataFrame'>\n",
      "RangeIndex: 2512 entries, 0 to 2511\n",
      "Data columns (total 11 columns):\n",
      " #   Column            Non-Null Count  Dtype  \n",
      "---  ------            --------------  -----  \n",
      " 0   Transaction_date  2512 non-null   object \n",
      " 1   Transaction_ID    2512 non-null   int64  \n",
      " 2   Gender            2484 non-null   object \n",
      " 3   Age               2470 non-null   float64\n",
      " 4   Marital_status    2512 non-null   object \n",
      " 5   State_names       2512 non-null   object \n",
      " 6   Segment           2512 non-null   object \n",
      " 7   Employees_status  2486 non-null   object \n",
      " 8   Payment_method    2512 non-null   object \n",
      " 9   Referal           2357 non-null   float64\n",
      " 10  Amount_spent      2270 non-null   float64\n",
      "dtypes: float64(3), int64(1), object(7)\n",
      "memory usage: 216.0+ KB\n"
     ]
    }
   ],
   "source": [
    "df.info()"
   ]
  },
  {
   "cell_type": "markdown",
   "id": "0af35f8b",
   "metadata": {},
   "source": [
    "From this condition, there are five columns that have NULL/NaN values, namely the Gender, Age, Employees_status, Referral, and Amount_spent columns so the data needs to be cleaned so that the data can be filled in completely according to the index range, 2512 entries. Apart from that, there are also two columns that have inappropriate data types, namely the referral column and transaction_date."
   ]
  },
  {
   "cell_type": "markdown",
   "id": "1af43f13",
   "metadata": {},
   "source": [
    "Check for duplicate data in the table"
   ]
  },
  {
   "cell_type": "code",
   "execution_count": 5,
   "id": "33584aad",
   "metadata": {},
   "outputs": [
    {
     "data": {
      "text/plain": [
       "0       False\n",
       "1       False\n",
       "2       False\n",
       "3       False\n",
       "4       False\n",
       "        ...  \n",
       "2507    False\n",
       "2508    False\n",
       "2509    False\n",
       "2510    False\n",
       "2511    False\n",
       "Length: 2512, dtype: bool"
      ]
     },
     "execution_count": 5,
     "metadata": {},
     "output_type": "execute_result"
    }
   ],
   "source": [
    "df.duplicated()"
   ]
  },
  {
   "cell_type": "code",
   "execution_count": 6,
   "id": "e39c9f54",
   "metadata": {},
   "outputs": [
    {
     "data": {
      "text/html": [
       "<div>\n",
       "<style scoped>\n",
       "    .dataframe tbody tr th:only-of-type {\n",
       "        vertical-align: middle;\n",
       "    }\n",
       "\n",
       "    .dataframe tbody tr th {\n",
       "        vertical-align: top;\n",
       "    }\n",
       "\n",
       "    .dataframe thead th {\n",
       "        text-align: right;\n",
       "    }\n",
       "</style>\n",
       "<table border=\"1\" class=\"dataframe\">\n",
       "  <thead>\n",
       "    <tr style=\"text-align: right;\">\n",
       "      <th></th>\n",
       "      <th>Transaction_date</th>\n",
       "      <th>Transaction_ID</th>\n",
       "      <th>Gender</th>\n",
       "      <th>Age</th>\n",
       "      <th>Marital_status</th>\n",
       "      <th>State_names</th>\n",
       "      <th>Segment</th>\n",
       "      <th>Employees_status</th>\n",
       "      <th>Payment_method</th>\n",
       "      <th>Referal</th>\n",
       "      <th>Amount_spent</th>\n",
       "    </tr>\n",
       "  </thead>\n",
       "  <tbody>\n",
       "    <tr>\n",
       "      <th>64</th>\n",
       "      <td>1/25/2019</td>\n",
       "      <td>151259</td>\n",
       "      <td>Male</td>\n",
       "      <td>73.0</td>\n",
       "      <td>Married</td>\n",
       "      <td>West Virginia</td>\n",
       "      <td>Basic</td>\n",
       "      <td>Employees</td>\n",
       "      <td>PayPal</td>\n",
       "      <td>0.0</td>\n",
       "      <td>1397.09</td>\n",
       "    </tr>\n",
       "    <tr>\n",
       "      <th>65</th>\n",
       "      <td>1/26/2019</td>\n",
       "      <td>151260</td>\n",
       "      <td>Male</td>\n",
       "      <td>55.0</td>\n",
       "      <td>Married</td>\n",
       "      <td>Kansas</td>\n",
       "      <td>Basic</td>\n",
       "      <td>Employees</td>\n",
       "      <td>Other</td>\n",
       "      <td>1.0</td>\n",
       "      <td>1277.64</td>\n",
       "    </tr>\n",
       "    <tr>\n",
       "      <th>66</th>\n",
       "      <td>1/26/2019</td>\n",
       "      <td>151261</td>\n",
       "      <td>Female</td>\n",
       "      <td>72.0</td>\n",
       "      <td>Married</td>\n",
       "      <td>Iowa</td>\n",
       "      <td>Silver</td>\n",
       "      <td>Unemployment</td>\n",
       "      <td>PayPal</td>\n",
       "      <td>NaN</td>\n",
       "      <td>515.77</td>\n",
       "    </tr>\n",
       "    <tr>\n",
       "      <th>67</th>\n",
       "      <td>1/26/2019</td>\n",
       "      <td>151262</td>\n",
       "      <td>Male</td>\n",
       "      <td>15.0</td>\n",
       "      <td>Married</td>\n",
       "      <td>South Carolina</td>\n",
       "      <td>Basic</td>\n",
       "      <td>self-employed</td>\n",
       "      <td>Other</td>\n",
       "      <td>1.0</td>\n",
       "      <td>790.10</td>\n",
       "    </tr>\n",
       "    <tr>\n",
       "      <th>68</th>\n",
       "      <td>1/27/2019</td>\n",
       "      <td>151263</td>\n",
       "      <td>Female</td>\n",
       "      <td>63.0</td>\n",
       "      <td>Single</td>\n",
       "      <td>Texas</td>\n",
       "      <td>Gold</td>\n",
       "      <td>Employees</td>\n",
       "      <td>Card</td>\n",
       "      <td>1.0</td>\n",
       "      <td>1218.56</td>\n",
       "    </tr>\n",
       "    <tr>\n",
       "      <th>109</th>\n",
       "      <td>2/6/2019</td>\n",
       "      <td>151297</td>\n",
       "      <td>Male</td>\n",
       "      <td>60.0</td>\n",
       "      <td>Married</td>\n",
       "      <td>Utah</td>\n",
       "      <td>Silver</td>\n",
       "      <td>Unemployment</td>\n",
       "      <td>Other</td>\n",
       "      <td>1.0</td>\n",
       "      <td>433.20</td>\n",
       "    </tr>\n",
       "    <tr>\n",
       "      <th>110</th>\n",
       "      <td>2/7/2019</td>\n",
       "      <td>151298</td>\n",
       "      <td>Female</td>\n",
       "      <td>45.0</td>\n",
       "      <td>Married</td>\n",
       "      <td>Missouri</td>\n",
       "      <td>Platinum</td>\n",
       "      <td>workers</td>\n",
       "      <td>Other</td>\n",
       "      <td>1.0</td>\n",
       "      <td>929.89</td>\n",
       "    </tr>\n",
       "    <tr>\n",
       "      <th>111</th>\n",
       "      <td>2/8/2019</td>\n",
       "      <td>151299</td>\n",
       "      <td>Male</td>\n",
       "      <td>33.0</td>\n",
       "      <td>Single</td>\n",
       "      <td>Arizona</td>\n",
       "      <td>Silver</td>\n",
       "      <td>workers</td>\n",
       "      <td>PayPal</td>\n",
       "      <td>0.0</td>\n",
       "      <td>2560.26</td>\n",
       "    </tr>\n",
       "    <tr>\n",
       "      <th>112</th>\n",
       "      <td>2/8/2019</td>\n",
       "      <td>151300</td>\n",
       "      <td>Male</td>\n",
       "      <td>24.0</td>\n",
       "      <td>Married</td>\n",
       "      <td>South Carolina</td>\n",
       "      <td>Basic</td>\n",
       "      <td>Unemployment</td>\n",
       "      <td>Other</td>\n",
       "      <td>0.0</td>\n",
       "      <td>NaN</td>\n",
       "    </tr>\n",
       "    <tr>\n",
       "      <th>113</th>\n",
       "      <td>2/8/2019</td>\n",
       "      <td>151301</td>\n",
       "      <td>Female</td>\n",
       "      <td>53.0</td>\n",
       "      <td>Single</td>\n",
       "      <td>Colorado</td>\n",
       "      <td>Basic</td>\n",
       "      <td>self-employed</td>\n",
       "      <td>Other</td>\n",
       "      <td>1.0</td>\n",
       "      <td>1888.69</td>\n",
       "    </tr>\n",
       "    <tr>\n",
       "      <th>114</th>\n",
       "      <td>2/8/2019</td>\n",
       "      <td>151302</td>\n",
       "      <td>Female</td>\n",
       "      <td>70.0</td>\n",
       "      <td>Married</td>\n",
       "      <td>New Hampshire</td>\n",
       "      <td>Missing</td>\n",
       "      <td>Employees</td>\n",
       "      <td>Card</td>\n",
       "      <td>1.0</td>\n",
       "      <td>685.49</td>\n",
       "    </tr>\n",
       "    <tr>\n",
       "      <th>115</th>\n",
       "      <td>2/8/2019</td>\n",
       "      <td>151303</td>\n",
       "      <td>Male</td>\n",
       "      <td>16.0</td>\n",
       "      <td>Married</td>\n",
       "      <td>Nebraska</td>\n",
       "      <td>Basic</td>\n",
       "      <td>workers</td>\n",
       "      <td>PayPal</td>\n",
       "      <td>1.0</td>\n",
       "      <td>1264.73</td>\n",
       "    </tr>\n",
       "  </tbody>\n",
       "</table>\n",
       "</div>"
      ],
      "text/plain": [
       "    Transaction_date  Transaction_ID  Gender   Age Marital_status  \\\n",
       "64         1/25/2019          151259    Male  73.0        Married   \n",
       "65         1/26/2019          151260    Male  55.0        Married   \n",
       "66         1/26/2019          151261  Female  72.0        Married   \n",
       "67         1/26/2019          151262    Male  15.0        Married   \n",
       "68         1/27/2019          151263  Female  63.0         Single   \n",
       "109         2/6/2019          151297    Male  60.0        Married   \n",
       "110         2/7/2019          151298  Female  45.0        Married   \n",
       "111         2/8/2019          151299    Male  33.0         Single   \n",
       "112         2/8/2019          151300    Male  24.0        Married   \n",
       "113         2/8/2019          151301  Female  53.0         Single   \n",
       "114         2/8/2019          151302  Female  70.0        Married   \n",
       "115         2/8/2019          151303    Male  16.0        Married   \n",
       "\n",
       "        State_names   Segment Employees_status Payment_method  Referal  \\\n",
       "64    West Virginia     Basic        Employees         PayPal      0.0   \n",
       "65           Kansas     Basic        Employees          Other      1.0   \n",
       "66             Iowa    Silver     Unemployment         PayPal      NaN   \n",
       "67   South Carolina     Basic    self-employed          Other      1.0   \n",
       "68            Texas      Gold        Employees           Card      1.0   \n",
       "109            Utah    Silver     Unemployment          Other      1.0   \n",
       "110        Missouri  Platinum          workers          Other      1.0   \n",
       "111         Arizona    Silver          workers         PayPal      0.0   \n",
       "112  South Carolina     Basic     Unemployment          Other      0.0   \n",
       "113        Colorado     Basic    self-employed          Other      1.0   \n",
       "114   New Hampshire   Missing        Employees           Card      1.0   \n",
       "115        Nebraska     Basic          workers         PayPal      1.0   \n",
       "\n",
       "     Amount_spent  \n",
       "64        1397.09  \n",
       "65        1277.64  \n",
       "66         515.77  \n",
       "67         790.10  \n",
       "68        1218.56  \n",
       "109        433.20  \n",
       "110        929.89  \n",
       "111       2560.26  \n",
       "112           NaN  \n",
       "113       1888.69  \n",
       "114        685.49  \n",
       "115       1264.73  "
      ]
     },
     "execution_count": 6,
     "metadata": {},
     "output_type": "execute_result"
    }
   ],
   "source": [
    "df[df.duplicated()]"
   ]
  },
  {
   "cell_type": "code",
   "execution_count": 7,
   "id": "35b94dd1",
   "metadata": {},
   "outputs": [
    {
     "data": {
      "text/plain": [
       "12"
      ]
     },
     "execution_count": 7,
     "metadata": {},
     "output_type": "execute_result"
    }
   ],
   "source": [
    "df.duplicated().sum()"
   ]
  },
  {
   "cell_type": "markdown",
   "id": "c7feb039",
   "metadata": {},
   "source": [
    "Removing the duplicates"
   ]
  },
  {
   "cell_type": "code",
   "execution_count": 8,
   "id": "3e8b7202",
   "metadata": {},
   "outputs": [],
   "source": [
    "df = df.drop_duplicates()"
   ]
  },
  {
   "cell_type": "markdown",
   "id": "d83f2cee",
   "metadata": {},
   "source": [
    "Check data in the table after duplicate data has been deleted"
   ]
  },
  {
   "cell_type": "code",
   "execution_count": 9,
   "id": "36069b03",
   "metadata": {},
   "outputs": [
    {
     "data": {
      "text/plain": [
       "0"
      ]
     },
     "execution_count": 9,
     "metadata": {},
     "output_type": "execute_result"
    }
   ],
   "source": [
    "df.duplicated().sum()"
   ]
  },
  {
   "cell_type": "markdown",
   "id": "37235c8b",
   "metadata": {},
   "source": [
    "### Gender Column"
   ]
  },
  {
   "cell_type": "markdown",
   "id": "9efa49bd",
   "metadata": {},
   "source": [
    "Because the values in the Gender column are in the form of strings or categorical, data cleaning can be done by filling in the rows of data that have null values with the mode of the data in the Gender column. The following are the data cleansing stages of the Gender column."
   ]
  },
  {
   "cell_type": "markdown",
   "id": "763b027f",
   "metadata": {},
   "source": [
    "Check data rows in the Gender column that have null/NaN values"
   ]
  },
  {
   "cell_type": "code",
   "execution_count": 10,
   "id": "912ee3ae",
   "metadata": {},
   "outputs": [
    {
     "data": {
      "text/plain": [
       "3       NaN\n",
       "72      NaN\n",
       "76      NaN\n",
       "176     NaN\n",
       "191     NaN\n",
       "207     NaN\n",
       "212     NaN\n",
       "231     NaN\n",
       "246     NaN\n",
       "261     NaN\n",
       "312     NaN\n",
       "333     NaN\n",
       "381     NaN\n",
       "420     NaN\n",
       "462     NaN\n",
       "492     NaN\n",
       "579     NaN\n",
       "624     NaN\n",
       "660     NaN\n",
       "849     NaN\n",
       "1508    NaN\n",
       "1571    NaN\n",
       "1646    NaN\n",
       "1881    NaN\n",
       "2028    NaN\n",
       "2157    NaN\n",
       "2436    NaN\n",
       "2510    NaN\n",
       "Name: Gender, dtype: object"
      ]
     },
     "execution_count": 10,
     "metadata": {},
     "output_type": "execute_result"
    }
   ],
   "source": [
    "df.Gender[df.Gender.isnull()]"
   ]
  },
  {
   "cell_type": "code",
   "execution_count": 11,
   "id": "ea2a2a13",
   "metadata": {},
   "outputs": [
    {
     "data": {
      "text/plain": [
       "28"
      ]
     },
     "execution_count": 11,
     "metadata": {},
     "output_type": "execute_result"
    }
   ],
   "source": [
    "df['Gender'].isnull().sum()"
   ]
  },
  {
   "cell_type": "markdown",
   "id": "d515151a",
   "metadata": {},
   "source": [
    "Check the amount of data/values in the categories in the Gender column"
   ]
  },
  {
   "cell_type": "code",
   "execution_count": 12,
   "id": "d81a6f58",
   "metadata": {},
   "outputs": [
    {
     "data": {
      "text/plain": [
       "Female    1351\n",
       "Male      1121\n",
       "Name: Gender, dtype: int64"
      ]
     },
     "execution_count": 12,
     "metadata": {},
     "output_type": "execute_result"
    }
   ],
   "source": [
    "df.Gender.value_counts()"
   ]
  },
  {
   "cell_type": "markdown",
   "id": "45b4a303",
   "metadata": {},
   "source": [
    "From the proportion of the Gender column, Female is the data that appears most often, so Female is the mode"
   ]
  },
  {
   "cell_type": "code",
   "execution_count": 13,
   "id": "eb3fc0c0",
   "metadata": {},
   "outputs": [],
   "source": [
    "val = df.Gender.mode().values[0]\n",
    "df['Gender'] = df.Gender.fillna(val)"
   ]
  },
  {
   "cell_type": "markdown",
   "id": "ac7e7d37",
   "metadata": {},
   "source": [
    "After imputation, it can be seen that the proportions have changed"
   ]
  },
  {
   "cell_type": "code",
   "execution_count": 14,
   "id": "587603ea",
   "metadata": {},
   "outputs": [
    {
     "data": {
      "text/plain": [
       "Female    1379\n",
       "Male      1121\n",
       "Name: Gender, dtype: int64"
      ]
     },
     "execution_count": 14,
     "metadata": {},
     "output_type": "execute_result"
    }
   ],
   "source": [
    "df.Gender.value_counts()"
   ]
  },
  {
   "cell_type": "markdown",
   "id": "50577fcb",
   "metadata": {},
   "source": [
    "Check the condition of the data after data cleansing in the Gender column"
   ]
  },
  {
   "cell_type": "code",
   "execution_count": 15,
   "id": "779aedc0",
   "metadata": {},
   "outputs": [
    {
     "name": "stdout",
     "output_type": "stream",
     "text": [
      "<class 'pandas.core.frame.DataFrame'>\n",
      "Int64Index: 2500 entries, 0 to 2511\n",
      "Data columns (total 11 columns):\n",
      " #   Column            Non-Null Count  Dtype  \n",
      "---  ------            --------------  -----  \n",
      " 0   Transaction_date  2500 non-null   object \n",
      " 1   Transaction_ID    2500 non-null   int64  \n",
      " 2   Gender            2500 non-null   object \n",
      " 3   Age               2458 non-null   float64\n",
      " 4   Marital_status    2500 non-null   object \n",
      " 5   State_names       2500 non-null   object \n",
      " 6   Segment           2500 non-null   object \n",
      " 7   Employees_status  2474 non-null   object \n",
      " 8   Payment_method    2500 non-null   object \n",
      " 9   Referal           2346 non-null   float64\n",
      " 10  Amount_spent      2259 non-null   float64\n",
      "dtypes: float64(3), int64(1), object(7)\n",
      "memory usage: 234.4+ KB\n"
     ]
    }
   ],
   "source": [
    "df.info()"
   ]
  },
  {
   "cell_type": "markdown",
   "id": "416b71b6",
   "metadata": {},
   "source": [
    "### Age Column"
   ]
  },
  {
   "cell_type": "markdown",
   "id": "c7a12f0d",
   "metadata": {},
   "source": [
    "Check the condition of the data distribution by visualizing it using a histogram"
   ]
  },
  {
   "cell_type": "code",
   "execution_count": 16,
   "id": "88f3bacb",
   "metadata": {},
   "outputs": [
    {
     "data": {
      "image/png": "[encoded data removed]",
      "text/plain": [
       "<Figure size 640x480 with 1 Axes>"
      ]
     },
     "metadata": {},
     "output_type": "display_data"
    }
   ],
   "source": [
    "sns.histplot(data=df, x='Age', kde=True)\n",
    "plt.title('Distribusi Usia')\n",
    "plt.show()"
   ]
  },
  {
   "cell_type": "markdown",
   "id": "be3f5736",
   "metadata": {},
   "source": [
    "To ensure that the histogram includes skewness or normality, it is necessary to check it using the rules, if:\n",
    "* Skewness = 0: Then normally distributed.\n",
    "* Skewness > 0: Then more weight in the left tail of the distribution.\n",
    "* Skewness < 0: Then more weight in the right tail of the distribution.\n",
    "\n",
    "The checking results will determine how to handle null values in the Age column."
   ]
  },
  {
   "cell_type": "code",
   "execution_count": 18,
   "id": "94bcbf08",
   "metadata": {},
   "outputs": [
    {
     "name": "stdout",
     "output_type": "stream",
     "text": [
      "Skewness: -0.009210405719477545\n"
     ]
    }
   ],
   "source": [
    "skewness = skew(df['Age'])\n",
    "print(f\"Skewness: {skewness}\")"
   ]
  },
  {
   "cell_type": "markdown",
   "id": "5f557505",
   "metadata": {},
   "source": [
    "Because the normality results are distributed with a skewness histogram, data cleaning can be done by filling in the rows of data that have null values with the median data in the Age column. The following are the steps for cleaning data in the Age column."
   ]
  },
  {
   "cell_type": "code",
   "execution_count": 19,
   "id": "94dad027",
   "metadata": {},
   "outputs": [],
   "source": [
    "val = df.Age.median()\n",
    "df['Age'] = df.Age.fillna(val)"
   ]
  },
  {
   "cell_type": "markdown",
   "id": "8e6ca7e5",
   "metadata": {},
   "source": [
    "Check the condition of the data after data cleansing in the Age column, the Age column has now changed its number"
   ]
  },
  {
   "cell_type": "code",
   "execution_count": 20,
   "id": "76ec2fc7",
   "metadata": {},
   "outputs": [
    {
     "name": "stdout",
     "output_type": "stream",
     "text": [
      "<class 'pandas.core.frame.DataFrame'>\n",
      "Int64Index: 2500 entries, 0 to 2511\n",
      "Data columns (total 11 columns):\n",
      " #   Column            Non-Null Count  Dtype  \n",
      "---  ------            --------------  -----  \n",
      " 0   Transaction_date  2500 non-null   object \n",
      " 1   Transaction_ID    2500 non-null   int64  \n",
      " 2   Gender            2500 non-null   object \n",
      " 3   Age               2500 non-null   float64\n",
      " 4   Marital_status    2500 non-null   object \n",
      " 5   State_names       2500 non-null   object \n",
      " 6   Segment           2500 non-null   object \n",
      " 7   Employees_status  2474 non-null   object \n",
      " 8   Payment_method    2500 non-null   object \n",
      " 9   Referal           2346 non-null   float64\n",
      " 10  Amount_spent      2259 non-null   float64\n",
      "dtypes: float64(3), int64(1), object(7)\n",
      "memory usage: 234.4+ KB\n"
     ]
    }
   ],
   "source": [
    "df.info()"
   ]
  },
  {
   "cell_type": "markdown",
   "id": "52df9126",
   "metadata": {},
   "source": [
    "Checking for outliers in the data"
   ]
  },
  {
   "cell_type": "code",
   "execution_count": 21,
   "id": "d1cbe3bf",
   "metadata": {},
   "outputs": [
    {
     "data": {
      "image/png": "[encoded data removed]",
      "text/plain": [
       "<Figure size 640x480 with 1 Axes>"
      ]
     },
     "metadata": {},
     "output_type": "display_data"
    }
   ],
   "source": [
    "df.boxplot(column=['Age'])\n",
    "plt.show()"
   ]
  },
  {
   "cell_type": "markdown",
   "id": "1729f92c",
   "metadata": {},
   "source": [
    "### Employee Status Column"
   ]
  },
  {
   "cell_type": "markdown",
   "id": "628f25ea",
   "metadata": {},
   "source": [
    "Because the values in the Employee Status column are in the form of strings or categorical, data cleaning can be done by filling in the rows of data that have null values with the mode of the data in the Employee Status column. The following are the data cleansing stages of the Employee Status column."
   ]
  },
  {
   "cell_type": "markdown",
   "id": "4e3d63d6",
   "metadata": {},
   "source": [
    "Check data rows in the Employee Status column that have null/NaN values"
   ]
  },
  {
   "cell_type": "code",
   "execution_count": 22,
   "id": "cf081ba1",
   "metadata": {},
   "outputs": [
    {
     "data": {
      "text/plain": [
       "179     NaN\n",
       "253     NaN\n",
       "301     NaN\n",
       "447     NaN\n",
       "577     NaN\n",
       "582     NaN\n",
       "682     NaN\n",
       "688     NaN\n",
       "788     NaN\n",
       "796     NaN\n",
       "919     NaN\n",
       "1065    NaN\n",
       "1195    NaN\n",
       "1279    NaN\n",
       "1290    NaN\n",
       "1309    NaN\n",
       "1395    NaN\n",
       "1624    NaN\n",
       "1660    NaN\n",
       "1954    NaN\n",
       "1961    NaN\n",
       "2199    NaN\n",
       "2201    NaN\n",
       "2416    NaN\n",
       "2436    NaN\n",
       "2459    NaN\n",
       "Name: Employees_status, dtype: object"
      ]
     },
     "execution_count": 22,
     "metadata": {},
     "output_type": "execute_result"
    }
   ],
   "source": [
    "df.Employees_status[df.Employees_status.isnull()]"
   ]
  },
  {
   "cell_type": "markdown",
   "id": "c5605687",
   "metadata": {},
   "source": [
    "Check the amount of data/values in the categories in the Gender column"
   ]
  },
  {
   "cell_type": "code",
   "execution_count": 23,
   "id": "077a4953",
   "metadata": {},
   "outputs": [
    {
     "data": {
      "text/plain": [
       "26"
      ]
     },
     "execution_count": 23,
     "metadata": {},
     "output_type": "execute_result"
    }
   ],
   "source": [
    "df['Employees_status'].isnull().sum()"
   ]
  },
  {
   "cell_type": "code",
   "execution_count": 24,
   "id": "ae147054",
   "metadata": {},
   "outputs": [
    {
     "data": {
      "text/plain": [
       "Employees        942\n",
       "workers          795\n",
       "self-employed    485\n",
       "Unemployment     252\n",
       "Name: Employees_status, dtype: int64"
      ]
     },
     "execution_count": 24,
     "metadata": {},
     "output_type": "execute_result"
    }
   ],
   "source": [
    "df.Employees_status.value_counts()"
   ]
  },
  {
   "cell_type": "markdown",
   "id": "c1205746",
   "metadata": {},
   "source": [
    "From the proportion of the Employee Status column, Employees is the data that appears most often, so Employees is the mode"
   ]
  },
  {
   "cell_type": "code",
   "execution_count": 25,
   "id": "81e60c64",
   "metadata": {},
   "outputs": [],
   "source": [
    "val = df.Employees_status.mode().values[0]\n",
    "df['Employees_status'] = df.Employees_status.fillna(val)"
   ]
  },
  {
   "cell_type": "markdown",
   "id": "33ca0391",
   "metadata": {},
   "source": [
    "After imputation, it can be seen that the proportions have changed"
   ]
  },
  {
   "cell_type": "code",
   "execution_count": 26,
   "id": "1ac05be6",
   "metadata": {},
   "outputs": [
    {
     "data": {
      "text/plain": [
       "Employees        968\n",
       "workers          795\n",
       "self-employed    485\n",
       "Unemployment     252\n",
       "Name: Employees_status, dtype: int64"
      ]
     },
     "execution_count": 26,
     "metadata": {},
     "output_type": "execute_result"
    }
   ],
   "source": [
    "df.Employees_status.value_counts()"
   ]
  },
  {
   "cell_type": "markdown",
   "id": "5982870f",
   "metadata": {},
   "source": [
    "Check the condition of the data after data cleansing in the Employee Status column"
   ]
  },
  {
   "cell_type": "code",
   "execution_count": 27,
   "id": "50d4a9da",
   "metadata": {},
   "outputs": [
    {
     "name": "stdout",
     "output_type": "stream",
     "text": [
      "<class 'pandas.core.frame.DataFrame'>\n",
      "Int64Index: 2500 entries, 0 to 2511\n",
      "Data columns (total 11 columns):\n",
      " #   Column            Non-Null Count  Dtype  \n",
      "---  ------            --------------  -----  \n",
      " 0   Transaction_date  2500 non-null   object \n",
      " 1   Transaction_ID    2500 non-null   int64  \n",
      " 2   Gender            2500 non-null   object \n",
      " 3   Age               2500 non-null   float64\n",
      " 4   Marital_status    2500 non-null   object \n",
      " 5   State_names       2500 non-null   object \n",
      " 6   Segment           2500 non-null   object \n",
      " 7   Employees_status  2500 non-null   object \n",
      " 8   Payment_method    2500 non-null   object \n",
      " 9   Referal           2346 non-null   float64\n",
      " 10  Amount_spent      2259 non-null   float64\n",
      "dtypes: float64(3), int64(1), object(7)\n",
      "memory usage: 234.4+ KB\n"
     ]
    }
   ],
   "source": [
    "df.info()"
   ]
  },
  {
   "cell_type": "markdown",
   "id": "0c3a63d5",
   "metadata": {},
   "source": [
    "### Referal Column"
   ]
  },
  {
   "cell_type": "markdown",
   "id": "419a691c",
   "metadata": {},
   "source": [
    "Because the values in the Referal column are in the form of categorical , data cleaning can be done by filling in the rows of data that have null values with the mode of the data in the Referal column. The following are the data cleansing stages of the Referal column."
   ]
  },
  {
   "cell_type": "markdown",
   "id": "4e20a95e",
   "metadata": {},
   "source": [
    "Check data rows in the referal column that have null/NaN values"
   ]
  },
  {
   "cell_type": "code",
   "execution_count": 28,
   "id": "61b88c38",
   "metadata": {},
   "outputs": [
    {
     "data": {
      "text/plain": [
       "58     NaN\n",
       "61     NaN\n",
       "74     NaN\n",
       "77     NaN\n",
       "131    NaN\n",
       "        ..\n",
       "2358   NaN\n",
       "2399   NaN\n",
       "2417   NaN\n",
       "2472   NaN\n",
       "2489   NaN\n",
       "Name: Referal, Length: 154, dtype: float64"
      ]
     },
     "execution_count": 28,
     "metadata": {},
     "output_type": "execute_result"
    }
   ],
   "source": [
    "df.Referal[df.Referal.isnull()]"
   ]
  },
  {
   "cell_type": "markdown",
   "id": "60a22541",
   "metadata": {},
   "source": [
    "Check the amount of data/values in the categories in the referal column"
   ]
  },
  {
   "cell_type": "code",
   "execution_count": 29,
   "id": "b9bf021e",
   "metadata": {},
   "outputs": [
    {
     "data": {
      "text/plain": [
       "154"
      ]
     },
     "execution_count": 29,
     "metadata": {},
     "output_type": "execute_result"
    }
   ],
   "source": [
    "df['Referal'].isnull().sum()"
   ]
  },
  {
   "cell_type": "code",
   "execution_count": 30,
   "id": "9b5ebbc7",
   "metadata": {},
   "outputs": [
    {
     "data": {
      "text/plain": [
       "1.0    1529\n",
       "0.0     817\n",
       "Name: Referal, dtype: int64"
      ]
     },
     "execution_count": 30,
     "metadata": {},
     "output_type": "execute_result"
    }
   ],
   "source": [
    "df.Referal.value_counts()"
   ]
  },
  {
   "cell_type": "markdown",
   "id": "cfff42c2",
   "metadata": {},
   "source": [
    "From the proportion of the referal column, use refral code (1) is the data that appears most often, so use refral code (1) is the mode"
   ]
  },
  {
   "cell_type": "code",
   "execution_count": 31,
   "id": "583077cc",
   "metadata": {},
   "outputs": [],
   "source": [
    "val = df.Referal.mode().values[0]\n",
    "df['Referal'] = df.Referal.fillna(val)"
   ]
  },
  {
   "cell_type": "markdown",
   "id": "a4760391",
   "metadata": {},
   "source": [
    "After imputation, it can be seen that the proportions have changed"
   ]
  },
  {
   "cell_type": "code",
   "execution_count": 32,
   "id": "26ed3fbf",
   "metadata": {},
   "outputs": [
    {
     "data": {
      "text/plain": [
       "1.0    1683\n",
       "0.0     817\n",
       "Name: Referal, dtype: int64"
      ]
     },
     "execution_count": 32,
     "metadata": {},
     "output_type": "execute_result"
    }
   ],
   "source": [
    "df.Referal.value_counts()"
   ]
  },
  {
   "cell_type": "markdown",
   "id": "213ddebf",
   "metadata": {},
   "source": [
    "Check the condition of the data after data cleansing in the referal column"
   ]
  },
  {
   "cell_type": "code",
   "execution_count": 33,
   "id": "27182a3c",
   "metadata": {},
   "outputs": [
    {
     "name": "stdout",
     "output_type": "stream",
     "text": [
      "<class 'pandas.core.frame.DataFrame'>\n",
      "Int64Index: 2500 entries, 0 to 2511\n",
      "Data columns (total 11 columns):\n",
      " #   Column            Non-Null Count  Dtype  \n",
      "---  ------            --------------  -----  \n",
      " 0   Transaction_date  2500 non-null   object \n",
      " 1   Transaction_ID    2500 non-null   int64  \n",
      " 2   Gender            2500 non-null   object \n",
      " 3   Age               2500 non-null   float64\n",
      " 4   Marital_status    2500 non-null   object \n",
      " 5   State_names       2500 non-null   object \n",
      " 6   Segment           2500 non-null   object \n",
      " 7   Employees_status  2500 non-null   object \n",
      " 8   Payment_method    2500 non-null   object \n",
      " 9   Referal           2500 non-null   float64\n",
      " 10  Amount_spent      2259 non-null   float64\n",
      "dtypes: float64(3), int64(1), object(7)\n",
      "memory usage: 234.4+ KB\n"
     ]
    }
   ],
   "source": [
    "df.info()"
   ]
  },
  {
   "cell_type": "markdown",
   "id": "017fdd47",
   "metadata": {},
   "source": [
    "Based on the results of the data inspection, it was found that the referral column used the float data type, this was deemed unsuitable, the data would be easier to understand if converted into a string, where \"1.0\" means using a referral code, while \"0.0\" means not using a code referral. This will help people who read the data so that it is easier to understand."
   ]
  },
  {
   "cell_type": "code",
   "execution_count": 34,
   "id": "047af3fb",
   "metadata": {},
   "outputs": [],
   "source": [
    "df['Referal'] = df['Referal'].astype(str)"
   ]
  },
  {
   "cell_type": "code",
   "execution_count": 35,
   "id": "0fe8a2d6",
   "metadata": {},
   "outputs": [],
   "source": [
    "df['Referal'] = df['Referal'].replace({'1.0': 'Use', '0.0': 'Not use'})"
   ]
  },
  {
   "cell_type": "code",
   "execution_count": 36,
   "id": "80f75884",
   "metadata": {},
   "outputs": [
    {
     "data": {
      "text/html": [
       "<div>\n",
       "<style scoped>\n",
       "    .dataframe tbody tr th:only-of-type {\n",
       "        vertical-align: middle;\n",
       "    }\n",
       "\n",
       "    .dataframe tbody tr th {\n",
       "        vertical-align: top;\n",
       "    }\n",
       "\n",
       "    .dataframe thead th {\n",
       "        text-align: right;\n",
       "    }\n",
       "</style>\n",
       "<table border=\"1\" class=\"dataframe\">\n",
       "  <thead>\n",
       "    <tr style=\"text-align: right;\">\n",
       "      <th></th>\n",
       "      <th>Transaction_date</th>\n",
       "      <th>Transaction_ID</th>\n",
       "      <th>Gender</th>\n",
       "      <th>Age</th>\n",
       "      <th>Marital_status</th>\n",
       "      <th>State_names</th>\n",
       "      <th>Segment</th>\n",
       "      <th>Employees_status</th>\n",
       "      <th>Payment_method</th>\n",
       "      <th>Referal</th>\n",
       "      <th>Amount_spent</th>\n",
       "    </tr>\n",
       "  </thead>\n",
       "  <tbody>\n",
       "    <tr>\n",
       "      <th>0</th>\n",
       "      <td>1/1/2019</td>\n",
       "      <td>151200</td>\n",
       "      <td>Female</td>\n",
       "      <td>19.0</td>\n",
       "      <td>Single</td>\n",
       "      <td>Kansas</td>\n",
       "      <td>Basic</td>\n",
       "      <td>Unemployment</td>\n",
       "      <td>Other</td>\n",
       "      <td>Use</td>\n",
       "      <td>2051.36</td>\n",
       "    </tr>\n",
       "    <tr>\n",
       "      <th>1</th>\n",
       "      <td>1/1/2019</td>\n",
       "      <td>151201</td>\n",
       "      <td>Male</td>\n",
       "      <td>49.0</td>\n",
       "      <td>Single</td>\n",
       "      <td>Illinois</td>\n",
       "      <td>Basic</td>\n",
       "      <td>self-employed</td>\n",
       "      <td>Card</td>\n",
       "      <td>Not use</td>\n",
       "      <td>544.04</td>\n",
       "    </tr>\n",
       "    <tr>\n",
       "      <th>2</th>\n",
       "      <td>1/1/2019</td>\n",
       "      <td>151202</td>\n",
       "      <td>Male</td>\n",
       "      <td>63.0</td>\n",
       "      <td>Married</td>\n",
       "      <td>New Mexico</td>\n",
       "      <td>Basic</td>\n",
       "      <td>workers</td>\n",
       "      <td>PayPal</td>\n",
       "      <td>Use</td>\n",
       "      <td>1572.60</td>\n",
       "    </tr>\n",
       "    <tr>\n",
       "      <th>3</th>\n",
       "      <td>1/1/2019</td>\n",
       "      <td>151203</td>\n",
       "      <td>Female</td>\n",
       "      <td>18.0</td>\n",
       "      <td>Single</td>\n",
       "      <td>Virginia</td>\n",
       "      <td>Platinum</td>\n",
       "      <td>workers</td>\n",
       "      <td>Card</td>\n",
       "      <td>Use</td>\n",
       "      <td>1199.79</td>\n",
       "    </tr>\n",
       "    <tr>\n",
       "      <th>4</th>\n",
       "      <td>1/1/2019</td>\n",
       "      <td>151204</td>\n",
       "      <td>Male</td>\n",
       "      <td>27.0</td>\n",
       "      <td>Single</td>\n",
       "      <td>Connecticut</td>\n",
       "      <td>Basic</td>\n",
       "      <td>self-employed</td>\n",
       "      <td>Card</td>\n",
       "      <td>Not use</td>\n",
       "      <td>NaN</td>\n",
       "    </tr>\n",
       "  </tbody>\n",
       "</table>\n",
       "</div>"
      ],
      "text/plain": [
       "  Transaction_date  Transaction_ID  Gender   Age Marital_status  State_names  \\\n",
       "0         1/1/2019          151200  Female  19.0         Single       Kansas   \n",
       "1         1/1/2019          151201    Male  49.0         Single     Illinois   \n",
       "2         1/1/2019          151202    Male  63.0        Married   New Mexico   \n",
       "3         1/1/2019          151203  Female  18.0         Single     Virginia   \n",
       "4         1/1/2019          151204    Male  27.0         Single  Connecticut   \n",
       "\n",
       "    Segment Employees_status Payment_method  Referal  Amount_spent  \n",
       "0     Basic     Unemployment          Other      Use       2051.36  \n",
       "1     Basic    self-employed           Card  Not use        544.04  \n",
       "2     Basic          workers         PayPal      Use       1572.60  \n",
       "3  Platinum          workers           Card      Use       1199.79  \n",
       "4     Basic    self-employed           Card  Not use           NaN  "
      ]
     },
     "execution_count": 36,
     "metadata": {},
     "output_type": "execute_result"
    }
   ],
   "source": [
    "df.head()"
   ]
  },
  {
   "cell_type": "markdown",
   "id": "48c6c99b",
   "metadata": {},
   "source": [
    "### Amount Spent Column"
   ]
  },
  {
   "cell_type": "markdown",
   "id": "00a0b10d",
   "metadata": {},
   "source": [
    "Check the condition of the data distribution by visualizing it using a histogram"
   ]
  },
  {
   "cell_type": "code",
   "execution_count": 37,
   "id": "65e08beb",
   "metadata": {},
   "outputs": [
    {
     "data": {
      "image/png": "[encoded data removed]",
      "text/plain": [
       "<Figure size 640x480 with 1 Axes>"
      ]
     },
     "metadata": {},
     "output_type": "display_data"
    }
   ],
   "source": [
    "sns.histplot(data=df, x='Amount_spent', kde=True)\n",
    "plt.title('Distribusi Pengeluaran')\n",
    "plt.show()"
   ]
  },
  {
   "cell_type": "markdown",
   "id": "17178d74",
   "metadata": {},
   "source": [
    "To ensure that the histogram includes skewness or normality, it is necessary to check it using the rules, if:\n",
    "* Skewness = 0: Then normally distributed.\n",
    "* Skewness > 0: Then more weight in the left tail of the distribution.\n",
    "* Skewness < 0: Then more weight in the right tail of the distribution.\n",
    "\n",
    "The checking results will determine how to handle null values in the Amount_spent column."
   ]
  },
  {
   "cell_type": "code",
   "execution_count": 40,
   "id": "5e674bd1",
   "metadata": {},
   "outputs": [
    {
     "name": "stdout",
     "output_type": "stream",
     "text": [
      "Skewness: 0.2396104557057614\n"
     ]
    }
   ],
   "source": [
    "skewness = skew(df['Amount_spent'])\n",
    "print(f\"Skewness: {skewness}\")"
   ]
  },
  {
   "cell_type": "markdown",
   "id": "4b002b9f",
   "metadata": {},
   "source": [
    "Because the normality results are distributed with a skewness histogram, data cleaning can be done by filling in the rows of data that have null values with the median data in the Amount_spent column. The following are the steps for cleaning data in the Amount_spent column."
   ]
  },
  {
   "cell_type": "code",
   "execution_count": 41,
   "id": "1107d48d",
   "metadata": {},
   "outputs": [],
   "source": [
    "val = df.Amount_spent.median()\n",
    "df['Amount_spent'] = df.Amount_spent.fillna(val)"
   ]
  },
  {
   "cell_type": "markdown",
   "id": "a75031d6",
   "metadata": {},
   "source": [
    "Check the condition of the data after data cleansing in the Amount_spent column, the Amount_spent column has now changed its number"
   ]
  },
  {
   "cell_type": "code",
   "execution_count": 42,
   "id": "31d79c8b",
   "metadata": {},
   "outputs": [
    {
     "name": "stdout",
     "output_type": "stream",
     "text": [
      "<class 'pandas.core.frame.DataFrame'>\n",
      "Int64Index: 2500 entries, 0 to 2511\n",
      "Data columns (total 11 columns):\n",
      " #   Column            Non-Null Count  Dtype  \n",
      "---  ------            --------------  -----  \n",
      " 0   Transaction_date  2500 non-null   object \n",
      " 1   Transaction_ID    2500 non-null   int64  \n",
      " 2   Gender            2500 non-null   object \n",
      " 3   Age               2500 non-null   float64\n",
      " 4   Marital_status    2500 non-null   object \n",
      " 5   State_names       2500 non-null   object \n",
      " 6   Segment           2500 non-null   object \n",
      " 7   Employees_status  2500 non-null   object \n",
      " 8   Payment_method    2500 non-null   object \n",
      " 9   Referal           2500 non-null   object \n",
      " 10  Amount_spent      2500 non-null   float64\n",
      "dtypes: float64(2), int64(1), object(8)\n",
      "memory usage: 234.4+ KB\n"
     ]
    }
   ],
   "source": [
    "df.info()"
   ]
  },
  {
   "cell_type": "markdown",
   "id": "73dbfb64",
   "metadata": {},
   "source": [
    "Checking for outliers in the data"
   ]
  },
  {
   "cell_type": "code",
   "execution_count": 43,
   "id": "fbdf71d1",
   "metadata": {},
   "outputs": [
    {
     "data": {
      "image/png": "[encoded data removed]",
      "text/plain": [
       "<Figure size 640x480 with 1 Axes>"
      ]
     },
     "metadata": {},
     "output_type": "display_data"
    }
   ],
   "source": [
    "df.boxplot(column=['Amount_spent'])\n",
    "plt.show()"
   ]
  },
  {
   "cell_type": "markdown",
   "id": "6d9c67d1",
   "metadata": {},
   "source": [
    "### Transaction Date"
   ]
  },
  {
   "cell_type": "markdown",
   "id": "a3d61199",
   "metadata": {},
   "source": [
    "Based on the results of the data inspection, it was found that the transaction date column used the string data type, this was deemed unsuitable. For dates, you should use the datetime data type to make it more suitable and easier to manipulate the data."
   ]
  },
  {
   "cell_type": "code",
   "execution_count": 44,
   "id": "90304bfc",
   "metadata": {},
   "outputs": [],
   "source": [
    "df['Transaction_date'] = pd.to_datetime(df['Transaction_date'], format='%m/%d/%Y')"
   ]
  },
  {
   "cell_type": "code",
   "execution_count": 45,
   "id": "0b477a37",
   "metadata": {},
   "outputs": [
    {
     "data": {
      "text/html": [
       "<div>\n",
       "<style scoped>\n",
       "    .dataframe tbody tr th:only-of-type {\n",
       "        vertical-align: middle;\n",
       "    }\n",
       "\n",
       "    .dataframe tbody tr th {\n",
       "        vertical-align: top;\n",
       "    }\n",
       "\n",
       "    .dataframe thead th {\n",
       "        text-align: right;\n",
       "    }\n",
       "</style>\n",
       "<table border=\"1\" class=\"dataframe\">\n",
       "  <thead>\n",
       "    <tr style=\"text-align: right;\">\n",
       "      <th></th>\n",
       "      <th>Transaction_date</th>\n",
       "      <th>Transaction_ID</th>\n",
       "      <th>Gender</th>\n",
       "      <th>Age</th>\n",
       "      <th>Marital_status</th>\n",
       "      <th>State_names</th>\n",
       "      <th>Segment</th>\n",
       "      <th>Employees_status</th>\n",
       "      <th>Payment_method</th>\n",
       "      <th>Referal</th>\n",
       "      <th>Amount_spent</th>\n",
       "    </tr>\n",
       "  </thead>\n",
       "  <tbody>\n",
       "    <tr>\n",
       "      <th>0</th>\n",
       "      <td>2019-01-01</td>\n",
       "      <td>151200</td>\n",
       "      <td>Female</td>\n",
       "      <td>19.0</td>\n",
       "      <td>Single</td>\n",
       "      <td>Kansas</td>\n",
       "      <td>Basic</td>\n",
       "      <td>Unemployment</td>\n",
       "      <td>Other</td>\n",
       "      <td>Use</td>\n",
       "      <td>2051.36</td>\n",
       "    </tr>\n",
       "    <tr>\n",
       "      <th>1</th>\n",
       "      <td>2019-01-01</td>\n",
       "      <td>151201</td>\n",
       "      <td>Male</td>\n",
       "      <td>49.0</td>\n",
       "      <td>Single</td>\n",
       "      <td>Illinois</td>\n",
       "      <td>Basic</td>\n",
       "      <td>self-employed</td>\n",
       "      <td>Card</td>\n",
       "      <td>Not use</td>\n",
       "      <td>544.04</td>\n",
       "    </tr>\n",
       "    <tr>\n",
       "      <th>2</th>\n",
       "      <td>2019-01-01</td>\n",
       "      <td>151202</td>\n",
       "      <td>Male</td>\n",
       "      <td>63.0</td>\n",
       "      <td>Married</td>\n",
       "      <td>New Mexico</td>\n",
       "      <td>Basic</td>\n",
       "      <td>workers</td>\n",
       "      <td>PayPal</td>\n",
       "      <td>Use</td>\n",
       "      <td>1572.60</td>\n",
       "    </tr>\n",
       "    <tr>\n",
       "      <th>3</th>\n",
       "      <td>2019-01-01</td>\n",
       "      <td>151203</td>\n",
       "      <td>Female</td>\n",
       "      <td>18.0</td>\n",
       "      <td>Single</td>\n",
       "      <td>Virginia</td>\n",
       "      <td>Platinum</td>\n",
       "      <td>workers</td>\n",
       "      <td>Card</td>\n",
       "      <td>Use</td>\n",
       "      <td>1199.79</td>\n",
       "    </tr>\n",
       "    <tr>\n",
       "      <th>4</th>\n",
       "      <td>2019-01-01</td>\n",
       "      <td>151204</td>\n",
       "      <td>Male</td>\n",
       "      <td>27.0</td>\n",
       "      <td>Single</td>\n",
       "      <td>Connecticut</td>\n",
       "      <td>Basic</td>\n",
       "      <td>self-employed</td>\n",
       "      <td>Card</td>\n",
       "      <td>Not use</td>\n",
       "      <td>1344.45</td>\n",
       "    </tr>\n",
       "    <tr>\n",
       "      <th>5</th>\n",
       "      <td>2019-01-03</td>\n",
       "      <td>151205</td>\n",
       "      <td>Male</td>\n",
       "      <td>71.0</td>\n",
       "      <td>Single</td>\n",
       "      <td>Hawaii</td>\n",
       "      <td>Basic</td>\n",
       "      <td>Employees</td>\n",
       "      <td>PayPal</td>\n",
       "      <td>Use</td>\n",
       "      <td>2922.66</td>\n",
       "    </tr>\n",
       "    <tr>\n",
       "      <th>6</th>\n",
       "      <td>2019-01-03</td>\n",
       "      <td>151206</td>\n",
       "      <td>Female</td>\n",
       "      <td>34.0</td>\n",
       "      <td>Married</td>\n",
       "      <td>New Mexico</td>\n",
       "      <td>Platinum</td>\n",
       "      <td>Employees</td>\n",
       "      <td>PayPal</td>\n",
       "      <td>Use</td>\n",
       "      <td>1481.42</td>\n",
       "    </tr>\n",
       "    <tr>\n",
       "      <th>7</th>\n",
       "      <td>2019-01-03</td>\n",
       "      <td>151207</td>\n",
       "      <td>Male</td>\n",
       "      <td>37.0</td>\n",
       "      <td>Married</td>\n",
       "      <td>Connecticut</td>\n",
       "      <td>Basic</td>\n",
       "      <td>workers</td>\n",
       "      <td>PayPal</td>\n",
       "      <td>Use</td>\n",
       "      <td>1149.55</td>\n",
       "    </tr>\n",
       "    <tr>\n",
       "      <th>8</th>\n",
       "      <td>2019-01-04</td>\n",
       "      <td>151208</td>\n",
       "      <td>Male</td>\n",
       "      <td>75.0</td>\n",
       "      <td>Married</td>\n",
       "      <td>Florida</td>\n",
       "      <td>Silver</td>\n",
       "      <td>Employees</td>\n",
       "      <td>Card</td>\n",
       "      <td>Not use</td>\n",
       "      <td>1046.20</td>\n",
       "    </tr>\n",
       "    <tr>\n",
       "      <th>9</th>\n",
       "      <td>2019-01-04</td>\n",
       "      <td>151209</td>\n",
       "      <td>Female</td>\n",
       "      <td>41.0</td>\n",
       "      <td>Married</td>\n",
       "      <td>Vermont</td>\n",
       "      <td>Gold</td>\n",
       "      <td>Unemployment</td>\n",
       "      <td>Card</td>\n",
       "      <td>Use</td>\n",
       "      <td>2730.60</td>\n",
       "    </tr>\n",
       "  </tbody>\n",
       "</table>\n",
       "</div>"
      ],
      "text/plain": [
       "  Transaction_date  Transaction_ID  Gender   Age Marital_status  State_names  \\\n",
       "0       2019-01-01          151200  Female  19.0         Single       Kansas   \n",
       "1       2019-01-01          151201    Male  49.0         Single     Illinois   \n",
       "2       2019-01-01          151202    Male  63.0        Married   New Mexico   \n",
       "3       2019-01-01          151203  Female  18.0         Single     Virginia   \n",
       "4       2019-01-01          151204    Male  27.0         Single  Connecticut   \n",
       "5       2019-01-03          151205    Male  71.0         Single       Hawaii   \n",
       "6       2019-01-03          151206  Female  34.0        Married   New Mexico   \n",
       "7       2019-01-03          151207    Male  37.0        Married  Connecticut   \n",
       "8       2019-01-04          151208    Male  75.0        Married      Florida   \n",
       "9       2019-01-04          151209  Female  41.0        Married      Vermont   \n",
       "\n",
       "    Segment Employees_status Payment_method  Referal  Amount_spent  \n",
       "0     Basic     Unemployment          Other      Use       2051.36  \n",
       "1     Basic    self-employed           Card  Not use        544.04  \n",
       "2     Basic          workers         PayPal      Use       1572.60  \n",
       "3  Platinum          workers           Card      Use       1199.79  \n",
       "4     Basic    self-employed           Card  Not use       1344.45  \n",
       "5     Basic        Employees         PayPal      Use       2922.66  \n",
       "6  Platinum        Employees         PayPal      Use       1481.42  \n",
       "7     Basic          workers         PayPal      Use       1149.55  \n",
       "8    Silver        Employees           Card  Not use       1046.20  \n",
       "9      Gold     Unemployment           Card      Use       2730.60  "
      ]
     },
     "execution_count": 45,
     "metadata": {},
     "output_type": "execute_result"
    }
   ],
   "source": [
    "df.head(10)"
   ]
  },
  {
   "cell_type": "code",
   "execution_count": 46,
   "id": "ba886564",
   "metadata": {},
   "outputs": [
    {
     "name": "stdout",
     "output_type": "stream",
     "text": [
      "<class 'pandas.core.frame.DataFrame'>\n",
      "Int64Index: 2500 entries, 0 to 2511\n",
      "Data columns (total 11 columns):\n",
      " #   Column            Non-Null Count  Dtype         \n",
      "---  ------            --------------  -----         \n",
      " 0   Transaction_date  2500 non-null   datetime64[ns]\n",
      " 1   Transaction_ID    2500 non-null   int64         \n",
      " 2   Gender            2500 non-null   object        \n",
      " 3   Age               2500 non-null   float64       \n",
      " 4   Marital_status    2500 non-null   object        \n",
      " 5   State_names       2500 non-null   object        \n",
      " 6   Segment           2500 non-null   object        \n",
      " 7   Employees_status  2500 non-null   object        \n",
      " 8   Payment_method    2500 non-null   object        \n",
      " 9   Referal           2500 non-null   object        \n",
      " 10  Amount_spent      2500 non-null   float64       \n",
      "dtypes: datetime64[ns](1), float64(2), int64(1), object(7)\n",
      "memory usage: 234.4+ KB\n"
     ]
    }
   ],
   "source": [
    "df.info()"
   ]
  },
  {
   "cell_type": "code",
   "execution_count": 47,
   "id": "588f3b39",
   "metadata": {},
   "outputs": [
    {
     "name": "stdout",
     "output_type": "stream",
     "text": [
      "datetime64[ns]\n"
     ]
    }
   ],
   "source": [
    "print(df['Transaction_date'].dtype)  "
   ]
  }
 ],
 "metadata": {
  "kernelspec": {
   "display_name": "Python 3 (ipykernel)",
   "language": "python",
   "name": "python3"
  },
  "language_info": {
   "codemirror_mode": {
    "name": "ipython",
    "version": 3
   },
   "file_extension": ".py",
   "mimetype": "text/x-python",
   "name": "python",
   "nbconvert_exporter": "python",
   "pygments_lexer": "ipython3",
   "version": "3.11.4"
  }
 },
 "nbformat": 4,
 "nbformat_minor": 5
}
